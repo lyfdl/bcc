{
  "nbformat": 4,
  "nbformat_minor": 0,
  "metadata": {
    "colab": {
      "provenance": [],
      "authorship_tag": "ABX9TyPjvwiIBv39hQG5Yam1jCEq",
      "include_colab_link": true
    },
    "kernelspec": {
      "name": "python3",
      "display_name": "Python 3"
    },
    "language_info": {
      "name": "python"
    }
  },
  "cells": [
    {
      "cell_type": "markdown",
      "metadata": {
        "id": "view-in-github",
        "colab_type": "text"
      },
      "source": [
        "<a href=\"https://colab.research.google.com/github/lyfdl/bcc/blob/main/lista5.ipynb\" target=\"_parent\"><img src=\"https://colab.research.google.com/assets/colab-badge.svg\" alt=\"Open In Colab\"/></a>"
      ]
    },
    {
      "cell_type": "code",
      "execution_count": 2,
      "metadata": {
        "colab": {
          "base_uri": "https://localhost:8080/"
        },
        "id": "qpmHRQtVSbr6",
        "outputId": "d1d65c98-32be-4a12-dc7f-bf2be4e2da50"
      },
      "outputs": [
        {
          "output_type": "stream",
          "name": "stdout",
          "text": [
            "1.18\n"
          ]
        }
      ],
      "source": [
        "import pandas as pd\n",
        "df = pd.read_csv(\"https://www.dropbox.com/s/fspfiuvv3ywti5p/fake-classrooms14.csv?dl=1\")\n",
        "print(\"%.2f\" % df[\"Prova 1\"].std())"
      ]
    },
    {
      "cell_type": "code",
      "source": [
        "import pandas as pd\n",
        "df = pd.read_csv(\"https://www.dropbox.com/s/6qwgc2dgyat96qd/fertilidade.csv?dl=1\", sep = ';' )\n",
        "df_filtrada = df.query(\"Contraceptivos > 40\")\n",
        "media = df_filtrada[\"Fertilidade\"].mean()\n",
        "mediana = df_filtrada[\"Fertilidade\"].median()\n",
        "variancia = df_filtrada[\"Fertilidade\"].var()\n",
        "print(\"Fertilidade na Asia com Contraceptivos > 40: media =\", media, \"mediana =\", mediana, \"variancia =\", variancia)"
      ],
      "metadata": {
        "colab": {
          "base_uri": "https://localhost:8080/"
        },
        "id": "QZNRySheUppD",
        "outputId": "b817645c-2495-4316-b8a9-ae0ea9e7a04a"
      },
      "execution_count": 6,
      "outputs": [
        {
          "output_type": "stream",
          "name": "stdout",
          "text": [
            "Fertilidade na Asia com Contraceptivos > 40: media = 3.516 mediana = 3.6 variancia = 0.7614\n"
          ]
        }
      ]
    },
    {
      "cell_type": "code",
      "source": [
        "import pandas as pd\n",
        "df = pd.read_csv(\"https://www.dropbox.com/s/aqo9magrsmob374/fake-classrooms11.csv?dl=1\")\n",
        "moda = df[\"Trabalho\"].mode()\n",
        "print(moda)"
      ],
      "metadata": {
        "colab": {
          "base_uri": "https://localhost:8080/"
        },
        "id": "3oe_OR-sprGY",
        "outputId": "087b235e-1385-46dd-9c58-1c7a27a9c514"
      },
      "execution_count": 2,
      "outputs": [
        {
          "output_type": "stream",
          "name": "stdout",
          "text": [
            "0    8\n",
            "Name: Trabalho, dtype: int64\n"
          ]
        }
      ]
    },
    {
      "cell_type": "code",
      "source": [
        "import pandas as pd\n",
        "import numpy as np\n",
        "df = pd.read_csv(\"https://www.dropbox.com/s/0g4i2s506tji6ya/fake-classrooms06.csv?dl=1\")\n",
        "resposta = np.percentile(df[\"Prova 1\"],q=58)\n",
        "print(\"%.2f\" % resposta)"
      ],
      "metadata": {
        "id": "NNm-EV2GqdWC"
      },
      "execution_count": 3,
      "outputs": []
    },
    {
      "cell_type": "code",
      "source": [
        "import pandas as pd\n",
        "regiao = input(\"\")\n",
        "df = pd.read_csv(\"https://www.dropbox.com/s/6qwgc2dgyat96qd/fertilidade.csv?dl=1\", sep = ';')\n",
        "df_filtrada = df.query(\"Contraceptivos > 40\" & \"Regiao == regiao\")\n",
        "media = df_filtrada[\"Fertilidade\"].mean()\n",
        "mediana = df_filtrada[\"Fertilidade\"].median()\n",
        "variancia = df_filtrada[\"Fertilidade\"].var()\n",
        "print(\"Fertilidade na\", regiao,\" com Contraceptivos > 40:\")\n",
        "print(\"media =\", media, \"mediana =\", mediana, \"variancia =\", variancia)"
      ],
      "metadata": {
        "colab": {
          "base_uri": "https://localhost:8080/"
        },
        "id": "6Ubbjz4YtI8H",
        "outputId": "2214f2c1-48b0-460b-930c-f2cfb4eb452d"
      },
      "execution_count": 5,
      "outputs": [
        {
          "output_type": "stream",
          "name": "stdout",
          "text": [
            "Asia\n",
            "Fertilidade na Asia  com Contraceptivos > 40:\n",
            "media = 3.516 mediana = 3.6 variancia = 0.7614\n"
          ]
        }
      ]
    },
    {
      "cell_type": "code",
      "source": [
        "import pandas as pd\n",
        "df = pd.read_csv(\"https://www.dropbox.com/s/i8lv141aanao5u3/fake-classrooms17.csv?dl=1\")\n",
        "coluna = input(\"\")\n",
        "aux = df[coluna].mode()\n",
        "valor = aux.max()\n",
        "print(\"%.2f\" % valor)"
      ],
      "metadata": {
        "id": "_0lgXDwxtjpu"
      },
      "execution_count": null,
      "outputs": []
    },
    {
      "cell_type": "code",
      "source": [
        "import pandas as pd\n",
        "\n",
        "# Ler o nome da região fornecida pelo usuário\n",
        "regiao = input(\"Digite o nome da região: \")\n",
        "\n",
        "# Carregar o arquivo CSV usando pandas\n",
        "df = pd.read_csv('fertilidade.csv', sep=';', decimal='.')\n",
        "\n",
        "filtro = (df['Regiao'] == regiao) & (df['Contraceptivos'] > 40)\n",
        "dados_filtrados = df[filtro]['Fertilidade']\n",
        "\n",
        "media = dados_filtrados.mean()\n",
        "mediana = dados_filtrados.median()\n",
        "variancia = dados_filtrados.var()\n",
        "\n",
        "print(f\"Fertilidade na {regiao} com Contraceptivos > 40:\")\n",
        "print(f\"media = {media:.2f}, mediana = {mediana:.2f}, variancia = {variancia:.2f}\")"
      ],
      "metadata": {
        "id": "Y1r4pHZuuCVr"
      },
      "execution_count": null,
      "outputs": []
    }
  ]
}